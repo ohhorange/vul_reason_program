{
 "cells": [
  {
   "cell_type": "code",
   "execution_count": 1,
   "metadata": {},
   "outputs": [],
   "source": [
    "import rdflib"
   ]
  },
  {
   "cell_type": "code",
   "execution_count": 2,
   "metadata": {},
   "outputs": [],
   "source": [
    "g=rdflib.Graph()"
   ]
  },
  {
   "cell_type": "code",
   "execution_count": 3,
   "metadata": {},
   "outputs": [
    {
     "data": {
      "text/plain": [
       "<Graph identifier=N86aa7e8355eb4881a1d844c00b15c07b (<class 'rdflib.graph.Graph'>)>"
      ]
     },
     "execution_count": 3,
     "metadata": {},
     "output_type": "execute_result"
    }
   ],
   "source": [
    "g.parse(\"data\\ontology.rdf\")"
   ]
  },
  {
   "cell_type": "code",
   "execution_count": 4,
   "metadata": {},
   "outputs": [
    {
     "name": "stdout",
     "output_type": "stream",
     "text": [
      "http://purl.org/vocab/vann/preferredNamespacePrefix http://www.w3.org/1999/02/22-rdf-syntax-ns#type http://www.w3.org/2002/07/owl#AnnotationProperty\n",
      "http://w3id.org/sepses/vocab/ref/attack http://purl.org/dc/elements/1.1/rights http://creativecommons.org/licenses/by/4.0/\n",
      "http://w3id.org/sepses/vocab/ref/attack#hasMitigation http://www.w3.org/2000/01/rdf-schema#domain http://w3id.org/sepses/vocab/ref/attack#Technique\n",
      "http://purl.org/dc/elements/1.1/rights http://www.w3.org/1999/02/22-rdf-syntax-ns#type http://www.w3.org/2002/07/owl#AnnotationProperty\n",
      "http://w3id.org/sepses/vocab/ref/attack#detection http://www.w3.org/2000/01/rdf-schema#range http://www.w3.org/2001/XMLSchema#string\n",
      "http://w3id.org/sepses/vocab/ref/attack#isSubTechniqueOf http://www.w3.org/2000/01/rdf-schema#domain http://w3id.org/sepses/vocab/ref/attack#Technique\n",
      "http://w3id.org/sepses/vocab/ref/attack http://purl.org/dc/elements/1.1/description An ontology to represent Att & CK.\n",
      "This ontology is developed based on the ATT & CK attack model \n",
      "http://w3id.org/sepses/vocab/ref/attack#dataSource http://www.w3.org/2000/01/rdf-schema#domain http://w3id.org/sepses/vocab/ref/attack#Technique\n",
      "http://w3id.org/sepses/vocab/ref/attack#Technique http://www.w3.org/1999/02/22-rdf-syntax-ns#type http://www.w3.org/2002/07/owl#Class\n",
      "http://w3id.org/sepses/vocab/ref/attack#hasSoftware http://www.w3.org/1999/02/22-rdf-syntax-ns#type http://www.w3.org/2002/07/owl#ObjectProperty\n",
      "http://w3id.org/sepses/vocab/ref/attack#shortname http://www.w3.org/2000/01/rdf-schema#domain http://w3id.org/sepses/vocab/ref/attack#Tactic\n",
      "http://w3id.org/sepses/vocab/ref/attack#Mitigation http://www.w3.org/1999/02/22-rdf-syntax-ns#type http://www.w3.org/2002/07/owl#Class\n",
      "http://w3id.org/sepses/vocab/ref/attack http://purl.org/dc/elements/1.1/title \n",
      "http://purl.org/dc/elements/1.1/description http://www.w3.org/1999/02/22-rdf-syntax-ns#type http://www.w3.org/2002/07/owl#AnnotationProperty\n",
      "http://w3id.org/sepses/vocab/ref/attack#preventsTechnique http://www.w3.org/2000/01/rdf-schema#domain http://w3id.org/sepses/vocab/ref/attack#Mitigation\n",
      "http://w3id.org/sepses/vocab/ref/attack#hasTechnique http://www.w3.org/2000/01/rdf-schema#domain http://w3id.org/sepses/vocab/ref/attack#Tactic\n",
      "http://w3id.org/sepses/vocab/ref/attack#usesSoftware http://www.w3.org/2000/01/rdf-schema#range http://w3id.org/sepses/vocab/ref/attack#Software\n",
      "http://w3id.org/sepses/vocab/ref/attack#permissionRequired http://www.w3.org/2000/01/rdf-schema#range http://www.w3.org/2001/XMLSchema#string\n",
      "http://w3id.org/sepses/vocab/ref/attack http://www.w3.org/1999/02/22-rdf-syntax-ns#type http://www.w3.org/2002/07/owl#Ontology\n",
      "http://w3id.org/sepses/vocab/ref/attack#preventsTechnique http://www.w3.org/1999/02/22-rdf-syntax-ns#type http://www.w3.org/2002/07/owl#ObjectProperty\n",
      "http://w3id.org/sepses/vocab/ref/attack#platform http://www.w3.org/2000/01/rdf-schema#range http://www.w3.org/2001/XMLSchema#string\n",
      "http://w3id.org/sepses/vocab/ref/attack#hasTechnique http://www.w3.org/2000/01/rdf-schema#range http://w3id.org/sepses/vocab/ref/attack#Technique\n",
      "http://w3id.org/sepses/vocab/ref/attack#AdversaryGroup http://www.w3.org/1999/02/22-rdf-syntax-ns#type http://www.w3.org/2002/07/owl#Class\n",
      "http://w3id.org/sepses/vocab/ref/attack#usesTechnique http://www.w3.org/1999/02/22-rdf-syntax-ns#type http://www.w3.org/2002/07/owl#ObjectProperty\n",
      "http://w3id.org/sepses/vocab/ref/attack#hasAdversaryGroup http://www.w3.org/2000/01/rdf-schema#range http://w3id.org/sepses/vocab/ref/attack#AdversaryGroup\n",
      "http://w3id.org/sepses/vocab/ref/attack#aliases http://www.w3.org/1999/02/22-rdf-syntax-ns#type http://www.w3.org/2002/07/owl#DatatypeProperty\n",
      "http://w3id.org/sepses/vocab/ref/attack#Software http://www.w3.org/1999/02/22-rdf-syntax-ns#type http://www.w3.org/2002/07/owl#Class\n",
      "http://w3id.org/sepses/vocab/ref/attack#Tactic http://www.w3.org/1999/02/22-rdf-syntax-ns#type http://www.w3.org/2002/07/owl#Class\n",
      "http://w3id.org/sepses/vocab/ref/attack#hasMitigation http://www.w3.org/2000/01/rdf-schema#range http://w3id.org/sepses/vocab/ref/attack#Mitigation\n",
      "http://w3id.org/sepses/vocab/ref/attack#aliases http://www.w3.org/2000/01/rdf-schema#domain http://w3id.org/sepses/vocab/ref/attack#AdversaryGroup\n",
      "http://w3id.org/sepses/vocab/ref/attack#usesTechnique http://www.w3.org/2000/01/rdf-schema#domain http://w3id.org/sepses/vocab/ref/attack#AdversaryGroup\n",
      "http://w3id.org/sepses/vocab/ref/attack#implementsTechnique http://www.w3.org/2000/01/rdf-schema#range http://w3id.org/sepses/vocab/ref/attack#Technique\n",
      "http://w3id.org/sepses/vocab/ref/attack#detection http://www.w3.org/2000/01/rdf-schema#domain http://w3id.org/sepses/vocab/ref/attack#Technique\n",
      "http://purl.org/dc/elements/1.1/title http://www.w3.org/1999/02/22-rdf-syntax-ns#type http://www.w3.org/2002/07/owl#AnnotationProperty\n",
      "http://w3id.org/sepses/vocab/ref/attack#accomplishesTactic http://www.w3.org/2000/01/rdf-schema#domain http://w3id.org/sepses/vocab/ref/attack#Technique\n",
      "http://w3id.org/sepses/vocab/ref/attack#hasTechnique http://www.w3.org/1999/02/22-rdf-syntax-ns#type http://www.w3.org/2002/07/owl#ObjectProperty\n",
      "http://w3id.org/sepses/vocab/ref/attack#hasMitigation http://www.w3.org/1999/02/22-rdf-syntax-ns#type http://www.w3.org/2002/07/owl#ObjectProperty\n",
      "http://w3id.org/sepses/vocab/ref/attack#hasSoftware http://www.w3.org/2000/01/rdf-schema#range http://w3id.org/sepses/vocab/ref/attack#Software\n",
      "http://w3id.org/sepses/vocab/ref/attack#implementsTechnique http://www.w3.org/2000/01/rdf-schema#domain http://w3id.org/sepses/vocab/ref/attack#Software\n",
      "http://w3id.org/sepses/vocab/ref/attack#isSubtechnique http://www.w3.org/1999/02/22-rdf-syntax-ns#type http://www.w3.org/2002/07/owl#DatatypeProperty\n",
      "http://w3id.org/sepses/vocab/ref/attack#isSubTechniqueOf http://www.w3.org/1999/02/22-rdf-syntax-ns#type http://www.w3.org/2002/07/owl#ObjectProperty\n",
      "http://w3id.org/sepses/vocab/ref/attack#detection http://www.w3.org/1999/02/22-rdf-syntax-ns#type http://www.w3.org/2002/07/owl#DatatypeProperty\n",
      "http://w3id.org/sepses/vocab/ref/attack#shortname http://www.w3.org/1999/02/22-rdf-syntax-ns#type http://www.w3.org/2002/07/owl#DatatypeProperty\n",
      "http://w3id.org/sepses/vocab/ref/attack http://purl.org/dc/elements/1.1/creator Kabul Kurniawan\n",
      "http://w3id.org/sepses/vocab/ref/attack#implementsTechnique http://www.w3.org/1999/02/22-rdf-syntax-ns#type http://www.w3.org/2002/07/owl#ObjectProperty\n",
      "http://w3id.org/sepses/vocab/ref/attack#permissionRequired http://www.w3.org/2000/01/rdf-schema#domain http://w3id.org/sepses/vocab/ref/attack#Technique\n",
      "http://w3id.org/sepses/vocab/ref/attack#preventsTechnique http://www.w3.org/2000/01/rdf-schema#range http://w3id.org/sepses/vocab/ref/attack#Technique\n",
      "http://w3id.org/sepses/vocab/ref/attack#shortname http://www.w3.org/2000/01/rdf-schema#range http://www.w3.org/2001/XMLSchema#string\n",
      "http://w3id.org/sepses/vocab/ref/attack#usesTechnique http://www.w3.org/2000/01/rdf-schema#range http://w3id.org/sepses/vocab/ref/attack#Technique\n",
      "http://w3id.org/sepses/vocab/ref/attack#dataSource http://www.w3.org/2000/01/rdf-schema#range http://www.w3.org/2001/XMLSchema#string\n",
      "http://w3id.org/sepses/vocab/ref/attack#permissionRequired http://www.w3.org/1999/02/22-rdf-syntax-ns#type http://www.w3.org/2002/07/owl#DatatypeProperty\n",
      "http://w3id.org/sepses/vocab/ref/attack#platform http://www.w3.org/2000/01/rdf-schema#domain http://w3id.org/sepses/vocab/ref/attack#Technique\n",
      "http://w3id.org/sepses/vocab/ref/attack#dataSource http://www.w3.org/1999/02/22-rdf-syntax-ns#type http://www.w3.org/2002/07/owl#DatatypeProperty\n",
      "http://w3id.org/sepses/vocab/ref/attack#hasSoftware http://www.w3.org/2000/01/rdf-schema#domain http://w3id.org/sepses/vocab/ref/attack#Technique\n",
      "http://w3id.org/sepses/vocab/ref/attack http://purl.org/dc/elements/1.1/creator Andreas Ekelhart\n",
      "http://purl.org/dc/elements/1.1/creator http://www.w3.org/1999/02/22-rdf-syntax-ns#type http://www.w3.org/2002/07/owl#AnnotationProperty\n",
      "http://w3id.org/sepses/vocab/ref/attack#platform http://www.w3.org/1999/02/22-rdf-syntax-ns#type http://www.w3.org/2002/07/owl#DatatypeProperty\n",
      "http://w3id.org/sepses/vocab/ref/attack http://purl.org/dc/elements/1.1/creator Elmar Kiesling\n",
      "http://w3id.org/sepses/vocab/ref/attack#isSubTechniqueOf http://www.w3.org/2000/01/rdf-schema#range http://w3id.org/sepses/vocab/ref/attack#Technique\n",
      "http://w3id.org/sepses/vocab/ref/attack#isSubtechnique http://www.w3.org/2000/01/rdf-schema#range http://www.w3.org/2001/XMLSchema#boolean\n",
      "http://w3id.org/sepses/vocab/ref/attack#hasAdversaryGroup http://www.w3.org/2000/01/rdf-schema#domain http://w3id.org/sepses/vocab/ref/attack#Software\n",
      "http://w3id.org/sepses/vocab/ref/attack#usesSoftware http://www.w3.org/2000/01/rdf-schema#domain http://w3id.org/sepses/vocab/ref/attack#AdversaryGroup\n",
      "http://w3id.org/sepses/vocab/ref/attack#usesSoftware http://www.w3.org/1999/02/22-rdf-syntax-ns#type http://www.w3.org/2002/07/owl#ObjectProperty\n",
      "http://w3id.org/sepses/vocab/ref/attack#accomplishesTactic http://www.w3.org/1999/02/22-rdf-syntax-ns#type http://www.w3.org/2002/07/owl#ObjectProperty\n",
      "http://w3id.org/sepses/vocab/ref/attack http://purl.org/vocab/vann/preferredNamespacePrefix attack\n",
      "http://w3id.org/sepses/vocab/ref/attack#hasAdversaryGroup http://www.w3.org/1999/02/22-rdf-syntax-ns#type http://www.w3.org/2002/07/owl#ObjectProperty\n",
      "http://w3id.org/sepses/vocab/ref/attack#aliases http://www.w3.org/2000/01/rdf-schema#range http://www.w3.org/2001/XMLSchema#string\n",
      "http://w3id.org/sepses/vocab/ref/attack#isSubtechnique http://www.w3.org/2000/01/rdf-schema#domain http://w3id.org/sepses/vocab/ref/attack#Technique\n",
      "http://w3id.org/sepses/vocab/ref/attack#accomplishesTactic http://www.w3.org/2000/01/rdf-schema#range http://w3id.org/sepses/vocab/ref/attack#Tactic\n",
      "http://w3id.org/sepses/vocab/ref/attack http://www.w3.org/2002/07/owl#versionIRI https://w3id.org/sepses/vocab/ref/attack/1.0.0\n"
     ]
    }
   ],
   "source": [
    "for s,p,o in g:\n",
    "    print(s,p,o)"
   ]
  },
  {
   "cell_type": "code",
   "execution_count": 5,
   "metadata": {},
   "outputs": [],
   "source": [
    "objectproperty_uris=g.subjects(rdflib.RDF.type,rdflib.OWL.ObjectProperty)"
   ]
  },
  {
   "cell_type": "code",
   "execution_count": 6,
   "metadata": {},
   "outputs": [],
   "source": [
    "objectproperty1=[]\n",
    "for s in objectproperty_uris:\n",
    "    # print(s)\n",
    "    objectproperty1.append(s.split('#')[1])"
   ]
  },
  {
   "cell_type": "code",
   "execution_count": 7,
   "metadata": {},
   "outputs": [
    {
     "data": {
      "text/plain": [
       "['accomplishesTactic',\n",
       " 'hasAdversaryGroup',\n",
       " 'hasMitigation',\n",
       " 'hasSoftware',\n",
       " 'hasTechnique',\n",
       " 'implementsTechnique',\n",
       " 'isSubTechniqueOf',\n",
       " 'preventsTechnique',\n",
       " 'usesSoftware',\n",
       " 'usesTechnique']"
      ]
     },
     "execution_count": 7,
     "metadata": {},
     "output_type": "execute_result"
    }
   ],
   "source": [
    "objectproperty1"
   ]
  },
  {
   "cell_type": "code",
   "execution_count": 58,
   "metadata": {},
   "outputs": [
    {
     "data": {
      "text/plain": [
       "<Graph identifier=Nf040d29332e04fe4873d80f885a9602a (<class 'rdflib.graph.Graph'>)>"
      ]
     },
     "execution_count": 58,
     "metadata": {},
     "output_type": "execute_result"
    }
   ],
   "source": [
    "g2=rdflib.Graph()\n",
    "g2.parse(\"data/uco_1_5_rdf.rdf\")"
   ]
  },
  {
   "cell_type": "code",
   "execution_count": 9,
   "metadata": {},
   "outputs": [],
   "source": [
    "class_uris2=g2.subjects(rdflib.RDF.type,rdflib.OWL.Class)"
   ]
  },
  {
   "cell_type": "code",
   "execution_count": 10,
   "metadata": {},
   "outputs": [
    {
     "name": "stdout",
     "output_type": "stream",
     "text": [
      "Ne1d60b28658c4facbe597d7697765224\n",
      "N7d13323aeb67470fa04ed1ea094bba66\n",
      "http://capec.mitre.org/capec_v1#Indicator\n",
      "http://capec.mitre.org/capec_v1#Observable\n",
      "http://capec.mitre.org/capec_v1#Weakness\n",
      "http://cybox.mitre.org/cybox_v1#Observable\n",
      "http://ffrdc.ebiquity.umbc.edu/ns/ontology/AttackPattern\n",
      "http://ffrdc.ebiquity.umbc.edu/ns/ontology/BaseGroup\n",
      "http://ffrdc.ebiquity.umbc.edu/ns/ontology/CCE\n",
      "http://ffrdc.ebiquity.umbc.edu/ns/ontology/CVE\n",
      "http://ffrdc.ebiquity.umbc.edu/ns/ontology/CVSSScoreType\n",
      "N042ea559f4374ec99e6afd38ba64be48\n",
      "http://ffrdc.ebiquity.umbc.edu/ns/ontology/ConfidenceType\n",
      "http://ffrdc.ebiquity.umbc.edu/ns/ontology/EnvironmentalGroup\n",
      "http://ffrdc.ebiquity.umbc.edu/ns/ontology/Exploit\n",
      "http://ffrdc.ebiquity.umbc.edu/ns/ontology/Indicator\n",
      "http://ffrdc.ebiquity.umbc.edu/ns/ontology/KillChain\n",
      "http://ffrdc.ebiquity.umbc.edu/ns/ontology/KillChainPhase\n",
      "http://ffrdc.ebiquity.umbc.edu/ns/ontology/Malware\n",
      "http://ffrdc.ebiquity.umbc.edu/ns/ontology/OSVDB\n",
      "http://ffrdc.ebiquity.umbc.edu/ns/ontology/StatementType\n",
      "http://ffrdc.ebiquity.umbc.edu/ns/ontology/TemporalGroup\n",
      "http://ffrdc.ebiquity.umbc.edu/ns/ontology/#Address\n",
      "http://ffrdc.ebiquity.umbc.edu/ns/ontology/#AtError\n",
      "http://ffrdc.ebiquity.umbc.edu/ns/ontology/#Attack\n",
      "http://ffrdc.ebiquity.umbc.edu/ns/ontology/#Attacker\n",
      "http://ffrdc.ebiquity.umbc.edu/ns/ontology/#Backdoor\n",
      "http://ffrdc.ebiquity.umbc.edu/ns/ontology/#BotnetAttack\n",
      "http://ffrdc.ebiquity.umbc.edu/ns/ontology/#BoundaryCondition\n",
      "http://ffrdc.ebiquity.umbc.edu/ns/ontology/#BufferOverFlow\n",
      "http://ffrdc.ebiquity.umbc.edu/ns/ontology/#CWE\n",
      "http://ffrdc.ebiquity.umbc.edu/ns/ontology/#Campaign\n",
      "http://ffrdc.ebiquity.umbc.edu/ns/ontology/#ConfigurationError\n",
      "http://ffrdc.ebiquity.umbc.edu/ns/ontology/#Consequence\n",
      "http://ffrdc.ebiquity.umbc.edu/ns/ontology/#CourseofAction\n",
      "http://ffrdc.ebiquity.umbc.edu/ns/ontology/#DataCorruption\n",
      "http://ffrdc.ebiquity.umbc.edu/ns/ontology/#DenialOfService\n",
      "http://ffrdc.ebiquity.umbc.edu/ns/ontology/#DirectoryExposure\n",
      "http://ffrdc.ebiquity.umbc.edu/ns/ontology/#DistributedCode\n",
      "http://ffrdc.ebiquity.umbc.edu/ns/ontology/#DomainExpert\n",
      "http://ffrdc.ebiquity.umbc.edu/ns/ontology/#ExICMPEchoReq\n",
      "http://ffrdc.ebiquity.umbc.edu/ns/ontology/#ExIPPacketSize\n",
      "http://ffrdc.ebiquity.umbc.edu/ns/ontology/#ExceptionCondition\n",
      "http://ffrdc.ebiquity.umbc.edu/ns/ontology/#ExcessForks\n",
      "http://ffrdc.ebiquity.umbc.edu/ns/ontology/#ExploitTarget\n",
      "http://ffrdc.ebiquity.umbc.edu/ns/ontology/#File\n",
      "http://ffrdc.ebiquity.umbc.edu/ns/ontology/#Hardware\n",
      "http://ffrdc.ebiquity.umbc.edu/ns/ontology/#IDPS\n",
      "http://ffrdc.ebiquity.umbc.edu/ns/ontology/#IPAddress\n",
      "http://ffrdc.ebiquity.umbc.edu/ns/ontology/#IPFrag\n",
      "http://ffrdc.ebiquity.umbc.edu/ns/ontology/#IPv4Address\n",
      "http://ffrdc.ebiquity.umbc.edu/ns/ontology/#IPv6Address\n",
      "http://ffrdc.ebiquity.umbc.edu/ns/ontology/#Incident\n",
      "http://ffrdc.ebiquity.umbc.edu/ns/ontology/#InputValidationError\n",
      "http://ffrdc.ebiquity.umbc.edu/ns/ontology/#KernelModule\n",
      "http://ffrdc.ebiquity.umbc.edu/ns/ontology/#Logic\n",
      "http://ffrdc.ebiquity.umbc.edu/ns/ontology/#LogicExploit\n",
      "http://ffrdc.ebiquity.umbc.edu/ns/ontology/#LossOfConf\n",
      "http://ffrdc.ebiquity.umbc.edu/ns/ontology/#LossOfIntegrity\n",
      "http://ffrdc.ebiquity.umbc.edu/ns/ontology/#MACAddress\n",
      "http://ffrdc.ebiquity.umbc.edu/ns/ontology/#MalformedInput\n",
      "http://ffrdc.ebiquity.umbc.edu/ns/ontology/#MaliciousCodeExecution\n",
      "http://ffrdc.ebiquity.umbc.edu/ns/ontology/#Means\n",
      "Nb28991c56cf04144a6f4694596e30678\n",
      "http://ffrdc.ebiquity.umbc.edu/ns/ontology/#MeansOrConsequence\n",
      "http://ffrdc.ebiquity.umbc.edu/ns/ontology/#MemoryConsumption\n",
      "http://ffrdc.ebiquity.umbc.edu/ns/ontology/#MitnickAttack\n",
      "http://ffrdc.ebiquity.umbc.edu/ns/ontology/#NetFlood\n",
      "http://ffrdc.ebiquity.umbc.edu/ns/ontology/#NetworkState\n",
      "http://ffrdc.ebiquity.umbc.edu/ns/ontology/#Observable\n",
      "http://ffrdc.ebiquity.umbc.edu/ns/ontology/#OperatingSystem\n",
      "http://ffrdc.ebiquity.umbc.edu/ns/ontology/#OtherTechnicalTerms\n",
      "http://ffrdc.ebiquity.umbc.edu/ns/ontology/#ParisiticCode\n",
      "http://ffrdc.ebiquity.umbc.edu/ns/ontology/#PingOfDeath\n",
      "http://ffrdc.ebiquity.umbc.edu/ns/ontology/#PingScan\n",
      "http://ffrdc.ebiquity.umbc.edu/ns/ontology/#PrivilegeEsc\n",
      "http://ffrdc.ebiquity.umbc.edu/ns/ontology/#Probe\n",
      "http://ffrdc.ebiquity.umbc.edu/ns/ontology/#Process\n",
      "http://ffrdc.ebiquity.umbc.edu/ns/ontology/#Product\n",
      "Ndcc0a43926db42baa03fd669eb62cbf0\n",
      "http://ffrdc.ebiquity.umbc.edu/ns/ontology/#RSTProbe\n",
      "http://ffrdc.ebiquity.umbc.edu/ns/ontology/#RaceCondition\n",
      "http://ffrdc.ebiquity.umbc.edu/ns/ontology/#RemoteAccess\n",
      "http://ffrdc.ebiquity.umbc.edu/ns/ontology/#Rootkit\n",
      "http://ffrdc.ebiquity.umbc.edu/ns/ontology/#SelfPropagatingCode\n",
      "http://ffrdc.ebiquity.umbc.edu/ns/ontology/#SerialError\n",
      "http://ffrdc.ebiquity.umbc.edu/ns/ontology/#Software\n",
      "http://ffrdc.ebiquity.umbc.edu/ns/ontology/#Source\n",
      "http://ffrdc.ebiquity.umbc.edu/ns/ontology/#SynFlood\n",
      "http://ffrdc.ebiquity.umbc.edu/ns/ontology/#SynScan\n",
      "http://ffrdc.ebiquity.umbc.edu/ns/ontology/#SysCrash\n",
      "http://ffrdc.ebiquity.umbc.edu/ns/ontology/#System\n",
      "http://ffrdc.ebiquity.umbc.edu/ns/ontology/#TCPConnect\n",
      "http://ffrdc.ebiquity.umbc.edu/ns/ontology/#TCPPortScan\n",
      "http://ffrdc.ebiquity.umbc.edu/ns/ontology/#TTP\n",
      "http://ffrdc.ebiquity.umbc.edu/ns/ontology/#ThreatActor\n",
      "http://ffrdc.ebiquity.umbc.edu/ns/ontology/#Time\n",
      "http://ffrdc.ebiquity.umbc.edu/ns/ontology/#TriggeredCode\n",
      "http://ffrdc.ebiquity.umbc.edu/ns/ontology/#Trojans\n",
      "http://ffrdc.ebiquity.umbc.edu/ns/ontology/#UCOThing\n",
      "http://ffrdc.ebiquity.umbc.edu/ns/ontology/#UnauthRoot\n",
      "http://ffrdc.ebiquity.umbc.edu/ns/ontology/#UnauthUser\n",
      "http://ffrdc.ebiquity.umbc.edu/ns/ontology/#UserEnumeration\n",
      "http://ffrdc.ebiquity.umbc.edu/ns/ontology/#Virus\n",
      "http://ffrdc.ebiquity.umbc.edu/ns/ontology/#Vulnerability\n",
      "http://ffrdc.ebiquity.umbc.edu/ns/ontology/#Web\n",
      "http://ffrdc.ebiquity.umbc.edu/ns/ontology/#WebBrowser\n",
      "http://ffrdc.ebiquity.umbc.edu/ns/ontology/#Worm\n",
      "http://ffrdc.ebiquity.umbc.edu/ns/ontology/#rstProbe\n",
      "http://stix.mitre.org/STIX#KillChain\n",
      "http://stix.mitre.org/STIX#KillChainPhase\n"
     ]
    }
   ],
   "source": [
    "class_list2=[]\n",
    "for s in class_uris2:\n",
    "    try:\n",
    "        print(s)\n",
    "        class_list2.append(s.split('#')[1])\n",
    "    except:\n",
    "        pass"
   ]
  },
  {
   "cell_type": "code",
   "execution_count": 11,
   "metadata": {},
   "outputs": [
    {
     "data": {
      "text/plain": [
       "['Indicator',\n",
       " 'Observable',\n",
       " 'Weakness',\n",
       " 'Observable',\n",
       " 'Address',\n",
       " 'AtError',\n",
       " 'Attack',\n",
       " 'Attacker',\n",
       " 'Backdoor',\n",
       " 'BotnetAttack',\n",
       " 'BoundaryCondition',\n",
       " 'BufferOverFlow',\n",
       " 'CWE',\n",
       " 'Campaign',\n",
       " 'ConfigurationError',\n",
       " 'Consequence',\n",
       " 'CourseofAction',\n",
       " 'DataCorruption',\n",
       " 'DenialOfService',\n",
       " 'DirectoryExposure',\n",
       " 'DistributedCode',\n",
       " 'DomainExpert',\n",
       " 'ExICMPEchoReq',\n",
       " 'ExIPPacketSize',\n",
       " 'ExceptionCondition',\n",
       " 'ExcessForks',\n",
       " 'ExploitTarget',\n",
       " 'File',\n",
       " 'Hardware',\n",
       " 'IDPS',\n",
       " 'IPAddress',\n",
       " 'IPFrag',\n",
       " 'IPv4Address',\n",
       " 'IPv6Address',\n",
       " 'Incident',\n",
       " 'InputValidationError',\n",
       " 'KernelModule',\n",
       " 'Logic',\n",
       " 'LogicExploit',\n",
       " 'LossOfConf',\n",
       " 'LossOfIntegrity',\n",
       " 'MACAddress',\n",
       " 'MalformedInput',\n",
       " 'MaliciousCodeExecution',\n",
       " 'Means',\n",
       " 'MeansOrConsequence',\n",
       " 'MemoryConsumption',\n",
       " 'MitnickAttack',\n",
       " 'NetFlood',\n",
       " 'NetworkState',\n",
       " 'Observable',\n",
       " 'OperatingSystem',\n",
       " 'OtherTechnicalTerms',\n",
       " 'ParisiticCode',\n",
       " 'PingOfDeath',\n",
       " 'PingScan',\n",
       " 'PrivilegeEsc',\n",
       " 'Probe',\n",
       " 'Process',\n",
       " 'Product',\n",
       " 'RSTProbe',\n",
       " 'RaceCondition',\n",
       " 'RemoteAccess',\n",
       " 'Rootkit',\n",
       " 'SelfPropagatingCode',\n",
       " 'SerialError',\n",
       " 'Software',\n",
       " 'Source',\n",
       " 'SynFlood',\n",
       " 'SynScan',\n",
       " 'SysCrash',\n",
       " 'System',\n",
       " 'TCPConnect',\n",
       " 'TCPPortScan',\n",
       " 'TTP',\n",
       " 'ThreatActor',\n",
       " 'Time',\n",
       " 'TriggeredCode',\n",
       " 'Trojans',\n",
       " 'UCOThing',\n",
       " 'UnauthRoot',\n",
       " 'UnauthUser',\n",
       " 'UserEnumeration',\n",
       " 'Virus',\n",
       " 'Vulnerability',\n",
       " 'Web',\n",
       " 'WebBrowser',\n",
       " 'Worm',\n",
       " 'rstProbe',\n",
       " 'KillChain',\n",
       " 'KillChainPhase']"
      ]
     },
     "execution_count": 11,
     "metadata": {},
     "output_type": "execute_result"
    }
   ],
   "source": [
    "class_list2"
   ]
  },
  {
   "cell_type": "code",
   "execution_count": 12,
   "metadata": {},
   "outputs": [],
   "source": [
    "class_uris=g.subjects(rdflib.RDF.type,rdflib.OWL.Class)"
   ]
  },
  {
   "cell_type": "code",
   "execution_count": 13,
   "metadata": {},
   "outputs": [],
   "source": [
    "class_list=[]\n",
    "for s in class_uris:\n",
    "    class_list.append(s.split('#')[1])"
   ]
  },
  {
   "cell_type": "code",
   "execution_count": 14,
   "metadata": {},
   "outputs": [
    {
     "data": {
      "text/plain": [
       "['AdversaryGroup', 'Mitigation', 'Software', 'Tactic', 'Technique']"
      ]
     },
     "execution_count": 14,
     "metadata": {},
     "output_type": "execute_result"
    }
   ],
   "source": [
    "class_list"
   ]
  },
  {
   "cell_type": "code",
   "execution_count": 15,
   "metadata": {},
   "outputs": [],
   "source": [
    "import random\n",
    "\n",
    "# 设置遗传算法的参数\n",
    "pop_size = 50  # 种群大小\n",
    "max_gen = 100  # 最大迭代次数\n",
    "mutation_rate = 0.01  # 变异概率\n",
    "\n",
    "# 定义适应度函数\n",
    "def fitness(w1, w2, w3):\n",
    "    y = w1 * x1 + w2 * x2 + w3 * x3\n",
    "    return y\n",
    "\n",
    "# 初始化种群\n",
    "def init_population():\n",
    "    population = []\n",
    "    for i in range(pop_size):\n",
    "        w1 = random.uniform(0, 1)\n",
    "        w2 = random.uniform(0, 1)\n",
    "        w3 = random.uniform(0, 1)\n",
    "        population.append((w1, w2, w3))\n",
    "    return population\n",
    "\n",
    "# 选择操作\n",
    "def selection(population):\n",
    "    fitness_list = [fitness(*individual) for individual in population]\n",
    "    total_fitness = sum(fitness_list)\n",
    "    selection_probs = [fitness / total_fitness for fitness in fitness_list]\n",
    "    parents = random.choices(population, weights=selection_probs, k=2)\n",
    "    return parents\n",
    "\n",
    "# 交叉操作\n",
    "def crossover(parents):\n",
    "    w1_1, w2_1, w3_1 = parents[0]\n",
    "    w1_2, w2_2, w3_2 = parents[1]\n",
    "    w1_new = (w1_1 + w1_2) / 2\n",
    "    w2_new = (w2_1 + w2_2) / 2\n",
    "    w3_new = (w3_1 + w3_2) / 2\n",
    "    child = (w1_new, w2_new, w3_new)\n",
    "    return child\n",
    "\n",
    "# 变异操作\n",
    "def mutation(child):\n",
    "    w1, w2, w3 = child\n",
    "    if random.random() < mutation_rate:\n",
    "        w1 = random.uniform(0, 1)\n",
    "    if random.random() < mutation_rate:\n",
    "        w2 = random.uniform(0, 1)\n",
    "    if random.random() < mutation_rate:\n",
    "        w3 = random.uniform(0, 1)\n",
    "    mutated_child = (w1, w2, w3)\n",
    "    return mutated_child\n",
    "\n",
    "# 进化操作\n",
    "def evolution(population):\n",
    "    for i in range(max_gen):\n",
    "        new_population = []\n",
    "        for j in range(pop_size // 2):\n",
    "            parents = selection(population)\n",
    "            child = crossover(parents)\n",
    "            mutated_child = mutation(child)\n",
    "            new_population.append(child)\n",
    "            new_population.append(mutated_child)\n",
    "        best_individual = max(population, key=lambda x: fitness(*x))\n",
    "        new_population.append(best_individual)\n",
    "        population = new_population\n",
    "    return population\n",
    "\n",
    "# 执行遗传算法\n",
    "def genetic_algorithm(sim1,sim2,sim3):\n",
    "    global x1,x2,x3\n",
    "    x1,x2,x3=sim1,sim2,sim3\n",
    "    if x1==0 and x2==0 and x3==0:\n",
    "        return 0,0,0\n",
    "    population = init_population()\n",
    "    population = evolution(population)\n",
    "\n",
    "    # 找到适应度最好的个体，并输出结果\n",
    "    best_individual = max(population, key=lambda x: fitness(*x))\n",
    "    best_w1, best_w2, best_w3 = best_individual\n",
    "    best_y = fitness(best_w1, best_w2, best_w3)\n",
    "    # print(\"Best solution: w1={}, w2={}, w3={}, y={}\".format(best_w1, best_w2, best_w3, best_y))\n",
    "    total_w=best_w1+best_w2+best_w3\n",
    "    best_w1=best_w1/total_w\n",
    "    best_w2=best_w2/total_w\n",
    "    best_w3=best_w3/total_w\n",
    "    return best_w1,best_w2,best_w3\n"
   ]
  },
  {
   "cell_type": "code",
   "execution_count": 16,
   "metadata": {},
   "outputs": [],
   "source": [
    "def needlemanwunsch_distance(string1, string2, gap):\n",
    "    if string1 == None or string2 == None:\n",
    "        return 1.0\n",
    "    n = len(string1)\n",
    "    m = len(string2)\n",
    "    if n == 0 or m == 0:\n",
    "        return 1.0\n",
    "    \n",
    "    p = []\n",
    "    d = []\n",
    "    \n",
    "    for i in range(n+1):\n",
    "        p.append(i * gap)\n",
    "    for j in range(1, m+1):\n",
    "        t_j = string2[j-1]\n",
    "        d.append(j * gap)\n",
    "        \n",
    "        for i in range(1, n+1):\n",
    "            if string1[i-1] == t_j:\n",
    "                cost = 0\n",
    "            else:\n",
    "                cost = 1\n",
    "            d.append(min(min(d[i-1] + gap, p[i] + gap), p[i-1] + cost))\n",
    "        d_temp = p\n",
    "        p = d\n",
    "        d = d_temp\n",
    "        d = []\n",
    "    min_value = min(n, m)\n",
    "    diff = max(n, m) - min_value\n",
    "    return float(p[n]) / float(min_value + diff * gap)\n",
    "def levenshtein_distance(string1, string2):\n",
    "    return needlemanwunsch_distance(string1, string2, 1)"
   ]
  },
  {
   "cell_type": "code",
   "execution_count": 17,
   "metadata": {},
   "outputs": [
    {
     "name": "stdout",
     "output_type": "stream",
     "text": [
      "Requirement already satisfied: nltk in .\\.conda\\lib\\site-packages (3.8.1)\n",
      "Requirement already satisfied: joblib in .\\.conda\\lib\\site-packages (from nltk) (1.2.0)\n",
      "Requirement already satisfied: tqdm in .\\.conda\\lib\\site-packages (from nltk) (4.65.0)\n",
      "Requirement already satisfied: click in .\\.conda\\lib\\site-packages (from nltk) (8.1.3)\n",
      "Requirement already satisfied: regex>=2021.8.3 in .\\.conda\\lib\\site-packages (from nltk) (2023.5.5)\n",
      "Requirement already satisfied: colorama in .\\.conda\\lib\\site-packages (from click->nltk) (0.4.6)\n"
     ]
    }
   ],
   "source": [
    "!pip install nltk"
   ]
  },
  {
   "cell_type": "code",
   "execution_count": 20,
   "metadata": {},
   "outputs": [
    {
     "name": "stderr",
     "output_type": "stream",
     "text": [
      "[nltk_data] Downloading package wordnet to\n",
      "[nltk_data]     C:\\Users\\wqs11\\AppData\\Roaming\\nltk_data...\n"
     ]
    },
    {
     "data": {
      "text/plain": [
       "True"
      ]
     },
     "execution_count": 20,
     "metadata": {},
     "output_type": "execute_result"
    }
   ],
   "source": [
    "import nltk\n",
    "nltk.download('wordnet')"
   ]
  },
  {
   "cell_type": "code",
   "execution_count": 21,
   "metadata": {},
   "outputs": [],
   "source": [
    "from nltk.tokenize import wordpunct_tokenize\n",
    "from nltk.corpus import wordnet as wn"
   ]
  },
  {
   "cell_type": "code",
   "execution_count": 22,
   "metadata": {},
   "outputs": [],
   "source": [
    "\n",
    "def substring_distance(string1, string2):\n",
    "    if string1 == None or string2 == None:\n",
    "        return 1.0\n",
    "    \n",
    "    len1 = len(string1)\n",
    "    len2 = len(string2)\n",
    "    \n",
    "    if len1 == 0 and len2 == 0:\n",
    "        return 0.0\n",
    "    if len1 == 0 or len2 == 0:\n",
    "        return 1.0\n",
    "    best = 0\n",
    "    i = 0\n",
    "    while i < len1 and len1 - 1 > best:\n",
    "        j = 0\n",
    "        while len2 - j > best:\n",
    "            k = i;   \n",
    "            while j < len2 and string1[k] != string2[j]:\n",
    "                j += 1\n",
    "            if j != len2:\n",
    "                j += 1\n",
    "                k += 1\n",
    "                while j < len2 and k < len1 and string1[k] == string2[j]:  \n",
    "                    j += 1 \n",
    "                    k += 1\n",
    "                best = max(best, k-i)\n",
    "        i += 1\n",
    "    return 1.0 - (float(2 * best) / float(len1 + len2))\n",
    "def basic_synonym_distance(string1, string2):\n",
    "        string1 = string1.lower()\n",
    "        string2 = string2.lower()\n",
    "        \n",
    "        dist_subs = substring_distance(string1, string2)\n",
    "        synsets = wn.synsets(string1, wn.NOUN)\n",
    "        if len(synsets) == 0:\n",
    "            tokens = wordpunct_tokenize(string1)\n",
    "            for token in tokens:\n",
    "                synsets = wn.synsets(string1, wn.NOUN)\n",
    "                if len(synsets) > 0:\n",
    "                    break\n",
    "        if len(synsets) > 0:\n",
    "            for synset in synsets:\n",
    "                for lemma in synset.lemmas():\n",
    "                    dist = substring_distance(lemma.name(), string2)\n",
    "                    if (dist < dist_subs):\n",
    "                        dist_subs = dist\n",
    "        return dist_subs"
   ]
  },
  {
   "cell_type": "code",
   "execution_count": 32,
   "metadata": {},
   "outputs": [],
   "source": [
    "class_result=[]\n",
    "with open(\"./output.txt\",'a+') as f:\n",
    "    for i in class_list:\n",
    "        for j in class_list2:\n",
    "            # sim1=1-levenshtein_distance(i.lower(), j.lower())\n",
    "            sim1=1-basic_synonym_distance(i.lower(),j.lower())\n",
    "            # sim3=Word2vec_similarity(i.lower(),j.lower())\n",
    "            # w1,w2,w3=genetic_algorithm(sim1,sim2,sim3)\n",
    "            f.write(f\"src:{i}\\ttgt:{j}\\t{sim1}\\n\")\n",
    "            if sim1>0.5:\n",
    "                class_result.append((i,j,sim1))"
   ]
  },
  {
   "cell_type": "code",
   "execution_count": 34,
   "metadata": {},
   "outputs": [
    {
     "data": {
      "text/plain": [
       "[('Mitigation', 'UserEnumeration', 0.56),\n",
       " ('Software', 'Software', 1.0),\n",
       " ('Software', 'System', 0.5714285714285714)]"
      ]
     },
     "execution_count": 34,
     "metadata": {},
     "output_type": "execute_result"
    }
   ],
   "source": [
    "class_result"
   ]
  },
  {
   "cell_type": "code",
   "execution_count": 65,
   "metadata": {},
   "outputs": [],
   "source": [
    "objectproperty_uris2=g2.subjects(rdflib.RDF.type,rdflib.OWL.ObjectProperty)"
   ]
  },
  {
   "cell_type": "code",
   "execution_count": 66,
   "metadata": {},
   "outputs": [],
   "source": [
    "objectproperty2=[]\n",
    "for s in objectproperty_uris2:\n",
    "    s=s.split('ontology/')[1]\n",
    "    if s[0]=='#':\n",
    "        s=s[1:]\n",
    "    objectproperty2.append(s)"
   ]
  },
  {
   "cell_type": "code",
   "execution_count": 67,
   "metadata": {},
   "outputs": [
    {
     "data": {
      "text/plain": [
       "['behaviour',\n",
       " 'hasAffectedSoftware',\n",
       " 'hasAssociatedCampaign',\n",
       " 'hasAttacker',\n",
       " 'hasCOAType',\n",
       " 'hasCVE_ID',\n",
       " 'hasCVSSScore',\n",
       " 'hasCampaign',\n",
       " 'hasConfidenceValue',\n",
       " 'hasConfiguration',\n",
       " 'hasCost',\n",
       " 'hasEfficacy',\n",
       " 'hasImpact',\n",
       " 'hasIncident',\n",
       " 'hasIndicator',\n",
       " 'hasIntendedEffect',\n",
       " 'hasKernel',\n",
       " 'hasKillChain',\n",
       " 'hasKillChainPhase',\n",
       " 'hasMotivation',\n",
       " 'hasOSVDB',\n",
       " 'hasObservable',\n",
       " 'hasObservedMeans',\n",
       " 'hasParameterObservables',\n",
       " 'hasRelatedCOA',\n",
       " 'hasRelatedIncident',\n",
       " 'hasRelatedIndicator',\n",
       " 'hasRelatedMeans',\n",
       " 'hasRequestedCOA',\n",
       " 'hasSoftware',\n",
       " 'hasSophistication',\n",
       " 'hasStage',\n",
       " 'hasStatus',\n",
       " 'hasSuggestedCOA',\n",
       " 'hasTakenCOA',\n",
       " 'hasType',\n",
       " 'hasWeakness',\n",
       " 'affectsProduct',\n",
       " 'associatedCampaigns',\n",
       " 'connectedTo',\n",
       " 'exploitsVulnerability',\n",
       " 'hasConsequence',\n",
       " 'hasIPAddress',\n",
       " 'hasIPv4Address',\n",
       " 'hasIPv6Address',\n",
       " 'hasInformationSource',\n",
       " 'hasMACAddress',\n",
       " 'hasMeans',\n",
       " 'hasMitigation',\n",
       " 'hasProduct',\n",
       " 'hasSource',\n",
       " 'hasTerms',\n",
       " 'hasVulnerability',\n",
       " 'isLaunchedBy',\n",
       " 'isResultOf',\n",
       " 'isUnderAttack',\n",
       " 'resultsIn',\n",
       " 'usesAttacks']"
      ]
     },
     "execution_count": 67,
     "metadata": {},
     "output_type": "execute_result"
    }
   ],
   "source": [
    "objectproperty2"
   ]
  },
  {
   "cell_type": "code",
   "execution_count": 70,
   "metadata": {},
   "outputs": [],
   "source": [
    "objectproperty_result=[]\n",
    "with open(\"./objectproperty.txt\",'a+') as f:\n",
    "    for i in objectproperty1:\n",
    "        for j in objectproperty2:\n",
    "            # sim1=1-levenshtein_distance(i.lower(), j.lower())\n",
    "            sim1=1-basic_synonym_distance(i.lower(),j.lower())\n",
    "            # sim3=Word2vec_similarity(i.lower(),j.lower())\n",
    "            # w1,w2,w3=genetic_algorithm(sim1,sim2,sim3)\n",
    "            f.write(f\"src:{i}\\ttgt:{j}\\t{sim1}\\n\")\n",
    "            if sim1>0.5:\n",
    "                objectproperty_result.append((i,j,sim1))"
   ]
  },
  {
   "cell_type": "code",
   "execution_count": 71,
   "metadata": {},
   "outputs": [
    {
     "data": {
      "text/plain": [
       "[('hasMitigation', 'hasMitigation', 1.0),\n",
       " ('hasSoftware', 'hasAffectedSoftware', 0.5333333333333333),\n",
       " ('hasSoftware', 'hasSoftware', 1.0),\n",
       " ('usesSoftware', 'hasAffectedSoftware', 0.5161290322580645),\n",
       " ('usesSoftware', 'hasSoftware', 0.782608695652174)]"
      ]
     },
     "execution_count": 71,
     "metadata": {},
     "output_type": "execute_result"
    }
   ],
   "source": [
    "objectproperty_result"
   ]
  },
  {
   "cell_type": "code",
   "execution_count": 80,
   "metadata": {},
   "outputs": [],
   "source": [
    "DatatypeProperty_uris=g.subjects(rdflib.RDF.type,rdflib.OWL.DatatypeProperty)\n",
    "DatatypeProperty_uris2=g2.subjects(rdflib.RDF.type,rdflib.OWL.DatatypeProperty)"
   ]
  },
  {
   "cell_type": "code",
   "execution_count": 81,
   "metadata": {},
   "outputs": [
    {
     "name": "stdout",
     "output_type": "stream",
     "text": [
      "http://ffrdc.ebiquity.umbc.edu/ns/ontology/discoveryTime\n",
      "http://ffrdc.ebiquity.umbc.edu/ns/ontology/hasConfidenceValue\n",
      "http://ffrdc.ebiquity.umbc.edu/ns/ontology/hasTime\n",
      "http://ffrdc.ebiquity.umbc.edu/ns/ontology/hasTitle\n",
      "http://ffrdc.ebiquity.umbc.edu/ns/ontology/#anomolousDataOutFlow\n",
      "http://ffrdc.ebiquity.umbc.edu/ns/ontology/#chgGid\n",
      "http://ffrdc.ebiquity.umbc.edu/ns/ontology/#chgPPid\n",
      "http://ffrdc.ebiquity.umbc.edu/ns/ontology/#chgSUid\n",
      "http://ffrdc.ebiquity.umbc.edu/ns/ontology/#chgUid\n",
      "http://ffrdc.ebiquity.umbc.edu/ns/ontology/#commonConsequences\n",
      "http://ffrdc.ebiquity.umbc.edu/ns/ontology/#cweExtendedSummary\n",
      "http://ffrdc.ebiquity.umbc.edu/ns/ontology/#cweID\n",
      "http://ffrdc.ebiquity.umbc.edu/ns/ontology/#cweName\n",
      "http://ffrdc.ebiquity.umbc.edu/ns/ontology/#cweSummary\n",
      "http://ffrdc.ebiquity.umbc.edu/ns/ontology/#dataSize\n",
      "http://ffrdc.ebiquity.umbc.edu/ns/ontology/#description\n",
      "http://ffrdc.ebiquity.umbc.edu/ns/ontology/#generated-on-datetime\n",
      "http://ffrdc.ebiquity.umbc.edu/ns/ontology/#hasAccessComplexity\n",
      "http://ffrdc.ebiquity.umbc.edu/ns/ontology/#hasAccessVector\n",
      "http://ffrdc.ebiquity.umbc.edu/ns/ontology/#hasAuthentication\n",
      "http://ffrdc.ebiquity.umbc.edu/ns/ontology/#hasAvailabilityImpact\n",
      "http://ffrdc.ebiquity.umbc.edu/ns/ontology/#hasCodeSize\n",
      "http://ffrdc.ebiquity.umbc.edu/ns/ontology/#hasConfidentialityImpact\n",
      "http://ffrdc.ebiquity.umbc.edu/ns/ontology/#hasDataSize\n",
      "http://ffrdc.ebiquity.umbc.edu/ns/ontology/#hasIntegrityImpact\n",
      "http://ffrdc.ebiquity.umbc.edu/ns/ontology/#hasLibSize\n",
      "http://ffrdc.ebiquity.umbc.edu/ns/ontology/#hasMACAddress\n",
      "http://ffrdc.ebiquity.umbc.edu/ns/ontology/#hasSeverityScore\n",
      "http://ffrdc.ebiquity.umbc.edu/ns/ontology/#hasSource\n",
      "http://ffrdc.ebiquity.umbc.edu/ns/ontology/#hasVendor\n",
      "http://ffrdc.ebiquity.umbc.edu/ns/ontology/#hasVulnerabilityTerm\n",
      "http://ffrdc.ebiquity.umbc.edu/ns/ontology/#isNew\n",
      "http://ffrdc.ebiquity.umbc.edu/ns/ontology/#lastModifiedDateTime\n",
      "http://ffrdc.ebiquity.umbc.edu/ns/ontology/#newDestIP\n",
      "http://ffrdc.ebiquity.umbc.edu/ns/ontology/#newPortsOpened\n",
      "http://ffrdc.ebiquity.umbc.edu/ns/ontology/#numChildProcesses\n",
      "http://ffrdc.ebiquity.umbc.edu/ns/ontology/#numOpenFiles\n",
      "http://ffrdc.ebiquity.umbc.edu/ns/ontology/#numProcessesRunning\n",
      "http://ffrdc.ebiquity.umbc.edu/ns/ontology/#opensPort\n",
      "http://ffrdc.ebiquity.umbc.edu/ns/ontology/#publishedDateTime\n",
      "http://ffrdc.ebiquity.umbc.edu/ns/ontology/#score\n",
      "http://ffrdc.ebiquity.umbc.edu/ns/ontology/#selfDist\n",
      "http://ffrdc.ebiquity.umbc.edu/ns/ontology/#showsInfectionSigns\n",
      "http://ffrdc.ebiquity.umbc.edu/ns/ontology/#summary\n",
      "http://ffrdc.ebiquity.umbc.edu/ns/ontology/#timeOfIntroduction\n"
     ]
    }
   ],
   "source": [
    "Datatypeproperty2=[]\n",
    "for s in DatatypeProperty_uris2:\n",
    "    print(s)\n",
    "    s=s.split('ontology/')[1]\n",
    "    if s[0]=='#':\n",
    "        s=s[1:]\n",
    "    Datatypeproperty2.append(s)\n",
    "Datatypeproperty=[]\n",
    "for s in DatatypeProperty_uris:\n",
    "    s=s.split('#')[1]\n",
    "    Datatypeproperty.append(s)"
   ]
  },
  {
   "cell_type": "code",
   "execution_count": 83,
   "metadata": {},
   "outputs": [],
   "source": [
    "DatatypeProperty_result=[]\n",
    "with open(\"./Datatypeproperty.txt\",'a+') as f:\n",
    "    for i in Datatypeproperty:\n",
    "        for j in Datatypeproperty2:\n",
    "            sim1=1-levenshtein_distance(i.lower(), j.lower())\n",
    "            sim1=1-basic_synonym_distance(i.lower(),j.lower())\n",
    "            sim3=Word2vec_similarity(i.lower(),j.lower())\n",
    "            w1,w2,w3=genetic_algorithm(sim1,sim2,sim3)\n",
    "            f.write(f\"src:{i}\\ttgt:{j}\\t{sim1}\\n\")\n",
    "            if sim1>0.5:\n",
    "                DatatypeProperty_result.append((i,j,sim1))"
   ]
  },
  {
   "cell_type": "code",
   "execution_count": 89,
   "metadata": {},
   "outputs": [
    {
     "data": {
      "text/plain": [
       "[('dataSource', 'dataSize', 0.5555555555555556),\n",
       " ('dataSource', 'hasSource', 0.631578947368421)]"
      ]
     },
     "execution_count": 89,
     "metadata": {},
     "output_type": "execute_result"
    }
   ],
   "source": [
    "DatatypeProperty_result"
   ]
  },
  {
   "cell_type": "code",
   "execution_count": 86,
   "metadata": {},
   "outputs": [],
   "source": [
    "with open('class_res.txt','a+') as f:\n",
    "    f.write(f\"{class_result}\")"
   ]
  },
  {
   "cell_type": "code",
   "execution_count": 87,
   "metadata": {},
   "outputs": [],
   "source": [
    "with open('Datatype_res.txt','a+') as f:\n",
    "    f.write(f\"{DatatypeProperty_result}\")"
   ]
  },
  {
   "cell_type": "code",
   "execution_count": 88,
   "metadata": {},
   "outputs": [],
   "source": [
    "with open('objectproperty_res.txt','a+') as f:\n",
    "    f.write(f\"{objectproperty_result}\")"
   ]
  },
  {
   "cell_type": "code",
   "execution_count": null,
   "metadata": {},
   "outputs": [],
   "source": []
  }
 ],
 "metadata": {
  "kernelspec": {
   "display_name": "Python 3",
   "language": "python",
   "name": "python3"
  },
  "language_info": {
   "codemirror_mode": {
    "name": "ipython",
    "version": 3
   },
   "file_extension": ".py",
   "mimetype": "text/x-python",
   "name": "python",
   "nbconvert_exporter": "python",
   "pygments_lexer": "ipython3",
   "version": "3.8.16"
  },
  "orig_nbformat": 4
 },
 "nbformat": 4,
 "nbformat_minor": 2
}
