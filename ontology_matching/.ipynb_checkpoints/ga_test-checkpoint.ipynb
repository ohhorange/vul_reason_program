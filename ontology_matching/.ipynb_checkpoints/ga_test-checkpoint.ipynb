{
 "cells": [
  {
   "cell_type": "code",
   "execution_count": 2,
   "metadata": {},
   "outputs": [
    {
     "name": "stdout",
     "output_type": "stream",
     "text": [
      "Best solution: w1=0.32116815504859436, w2=0.4286896456510237, w3=0.5668260284563434\n"
     ]
    }
   ],
   "source": [
    "import random\n",
    "import matplotlib.pyplot as plt\n",
    "\n",
    "# 设置问题的输入参数\n",
    "x1 = 0.2\n",
    "x2 = 0.3\n",
    "x3 = 0.5\n",
    "\n",
    "# 设置遗传算法的参数\n",
    "pop_size = 50  # 种群大小\n",
    "max_gen = 10000  # 最大迭代次数\n",
    "mutation_rate = 0.01  # 变异概率\n",
    "\n",
    "# 定义适应度函数\n",
    "def fitness(w1, w2, w3):\n",
    "    y = w1 * x1 + w2 * x2 + w3 * x3\n",
    "    return y\n",
    "\n",
    "# 初始化种群\n",
    "def init_population():\n",
    "    population = []\n",
    "    for i in range(pop_size):\n",
    "        w1 = random.uniform(0, 1)\n",
    "        w2 = random.uniform(0, 1)\n",
    "        w3 = random.uniform(0, 1)\n",
    "        total=w1+w2+w3\n",
    "        w1=w1/total\n",
    "        w2=w2/total\n",
    "        w3=w3/total\n",
    "        population.append((w1, w2, w3))\n",
    "    return population\n",
    "\n",
    "# 选择操作\n",
    "def selection(population):\n",
    "    fitness_list = [fitness(*individual) for individual in population]\n",
    "    total_fitness = sum(fitness_list)\n",
    "    selection_probs = [fitness / total_fitness for fitness in fitness_list]\n",
    "    parents = random.choices(population, weights=selection_probs, k=2)\n",
    "    return parents\n",
    "\n",
    "# 交叉操作\n",
    "def crossover(parents):\n",
    "    w1_1, w2_1, w3_1 = parents[0]\n",
    "    w1_2, w2_2, w3_2 = parents[1]\n",
    "    w1_new = (w1_1 + w1_2) / 2\n",
    "    w2_new = (w2_1 + w2_2) / 2\n",
    "    w3_new = (w3_1 + w3_2) / 2\n",
    "    child = (w1_new, w2_new, w3_new)\n",
    "    return child\n",
    "\n",
    "# 变异操作\n",
    "def mutation(child):\n",
    "    w1, w2, w3 = child\n",
    "    if random.random() < mutation_rate:\n",
    "        w1 = random.uniform(0, 1)\n",
    "    if random.random() < mutation_rate:\n",
    "        w2 = random.uniform(0, 1)\n",
    "    if random.random() < mutation_rate:\n",
    "        w3 = random.uniform(0, 1)\n",
    "    mutated_child = (w1, w2, w3)\n",
    "    return mutated_child\n",
    "\n",
    "# 进化操作\n",
    "# 进化操作\n",
    "def evolution(population):\n",
    "    fitness_history=[]\n",
    "    for i in range(max_gen):\n",
    "        new_population = []\n",
    "        for j in range(pop_size // 2):\n",
    "            parents = selection(population)\n",
    "            child = crossover(parents)\n",
    "            mutated_child = mutation(child)\n",
    "            new_population.append(child)\n",
    "            new_population.append(mutated_child)\n",
    "        best_individual = max(population, key=lambda x: fitness(*x))\n",
    "        best_fitness=max([fitness(*individual) for individual in population])\n",
    "        fitness_history.append(best_fitness)\n",
    "        new_population.append(best_individual)\n",
    "        population = new_population\n",
    "    return population,fitness_history\n",
    "\n",
    "\n",
    "# 执行遗传算法\n",
    "population = init_population()\n",
    "population, fitness_history = evolution(population)\n",
    "\n",
    "# 找到适应度最好的个体，并输出结果\n",
    "best_individual = max(population, key=lambda x: fitness(*x))\n",
    "best_w1, best_w2, best_w3 = best_individual\n",
    "best_y = fitness(best_w1, best_w2, best_w3)\n",
    "best_w1=best_w1/(best_w2+best_w3+best_w1)\n",
    "best_w2=best_w2/(best_w1+best_w2+best_w3)\n",
    "best_w3=best_w3/(best_w1+best_w2+best_w3)\n",
    "print(\"Best solution: w1={}, w2={}, w3={}\".format(best_w1,best_w2,best_w3))"
   ]
  },
  {
   "cell_type": "code",
   "execution_count": null,
   "metadata": {},
   "outputs": [],
   "source": []
  },
  {
   "cell_type": "code",
   "execution_count": 1,
   "metadata": {},
   "outputs": [
    {
     "ename": "NameError",
     "evalue": "name 'max_gen' is not defined",
     "output_type": "error",
     "traceback": [
      "\u001b[0;31m---------------------------------------------------------------------------\u001b[0m",
      "\u001b[0;31mNameError\u001b[0m                                 Traceback (most recent call last)",
      "\u001b[0;32m<ipython-input-1-a1a4eed86209>\u001b[0m in \u001b[0;36m<module>\u001b[0;34m\u001b[0m\n\u001b[1;32m      2\u001b[0m \u001b[0;34m\u001b[0m\u001b[0m\n\u001b[1;32m      3\u001b[0m \u001b[0;31m# 绘制图像\u001b[0m\u001b[0;34m\u001b[0m\u001b[0;34m\u001b[0m\u001b[0;34m\u001b[0m\u001b[0m\n\u001b[0;32m----> 4\u001b[0;31m \u001b[0mplt\u001b[0m\u001b[0;34m.\u001b[0m\u001b[0mplot\u001b[0m\u001b[0;34m(\u001b[0m\u001b[0mrange\u001b[0m\u001b[0;34m(\u001b[0m\u001b[0mmax_gen\u001b[0m\u001b[0;34m)\u001b[0m\u001b[0;34m,\u001b[0m \u001b[0mfitness_history\u001b[0m\u001b[0;34m)\u001b[0m\u001b[0;34m\u001b[0m\u001b[0;34m\u001b[0m\u001b[0m\n\u001b[0m\u001b[1;32m      5\u001b[0m \u001b[0mplt\u001b[0m\u001b[0;34m.\u001b[0m\u001b[0mxlabel\u001b[0m\u001b[0;34m(\u001b[0m\u001b[0;34m\"Generation\"\u001b[0m\u001b[0;34m)\u001b[0m\u001b[0;34m\u001b[0m\u001b[0;34m\u001b[0m\u001b[0m\n\u001b[1;32m      6\u001b[0m \u001b[0mplt\u001b[0m\u001b[0;34m.\u001b[0m\u001b[0mylabel\u001b[0m\u001b[0;34m(\u001b[0m\u001b[0;34m\"Fitness\"\u001b[0m\u001b[0;34m)\u001b[0m\u001b[0;34m\u001b[0m\u001b[0;34m\u001b[0m\u001b[0m\n",
      "\u001b[0;31mNameError\u001b[0m: name 'max_gen' is not defined"
     ]
    }
   ],
   "source": [
    "import matplotlib.pyplot as plt\n",
    "\n",
    "# 绘制图像\n",
    "plt.plot(range(max_gen), fitness_history)\n",
    "plt.xlabel(\"Generation\")\n",
    "plt.ylabel(\"Fitness\")\n",
    "plt.title(\"Evolution of the Best Solution\")\n",
    "plt.savefig('./2.png',dpi=1000)\n",
    "plt.show()\n"
   ]
  },
  {
   "cell_type": "markdown",
   "metadata": {},
   "source": [
    "- test"
   ]
  },
  {
   "cell_type": "code",
   "execution_count": 13,
   "metadata": {},
   "outputs": [
    {
     "data": {
      "image/png": "[encoded data removed]",
      "text/plain": [
       "<Figure size 432x288 with 1 Axes>"
      ]
     },
     "metadata": {
      "needs_background": "light"
     },
     "output_type": "display_data"
    }
   ],
   "source": [
    "import matplotlib.pyplot as plt\n",
    "\n",
    "# 绘制图像\n",
    "plt.plot(range(max_gen), fitness_history)\n",
    "plt.xlabel(\"Generation\")\n",
    "plt.ylabel(\"Fitness\")\n",
    "plt.title(\"Evolution of the Best Solution\")\n",
    "plt.show()\n"
   ]
  },
  {
   "cell_type": "code",
   "execution_count": 15,
   "metadata": {},
   "outputs": [],
   "source": [
    "best_y=fitness(best_w1,best_w2,best_w3)"
   ]
  },
  {
   "cell_type": "code",
   "execution_count": 16,
   "metadata": {},
   "outputs": [
    {
     "data": {
      "text/plain": [
       "0.47797744175290235"
      ]
     },
     "execution_count": 16,
     "metadata": {},
     "output_type": "execute_result"
    }
   ],
   "source": [
    "best_y"
   ]
  },
  {
   "cell_type": "code",
   "execution_count": null,
   "metadata": {},
   "outputs": [],
   "source": []
  }
 ],
 "metadata": {
  "kernelspec": {
   "display_name": "Python 3",
   "language": "python",
   "name": "python3"
  },
  "language_info": {
   "codemirror_mode": {
    "name": "ipython",
    "version": 3
   },
   "file_extension": ".py",
   "mimetype": "text/x-python",
   "name": "python",
   "nbconvert_exporter": "python",
   "pygments_lexer": "ipython3",
   "version": "3.7.4"
  }
 },
 "nbformat": 4,
 "nbformat_minor": 4
}
