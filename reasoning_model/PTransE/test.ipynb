{
 "cells": [
  {
   "cell_type": "code",
   "execution_count": 12,
   "metadata": {},
   "outputs": [],
   "source": [
    "predict_list=[]\n",
    "label_list=[]\n",
    "with open('output.txt','r') as f:\n",
    "    for line in f:\n",
    "        predict_score,label=line.split('\\t')\n",
    "        predict_list.append(predict_score)\n",
    "        label_list.append(label)\n",
    "with open('res.txt','a+') as f:\n",
    "    for i in label_list:\n",
    "        f.write(i[:-1]+\",\")"
   ]
  }
 ],
 "metadata": {
  "kernelspec": {
   "display_name": "cb",
   "language": "python",
   "name": "python3"
  },
  "language_info": {
   "codemirror_mode": {
    "name": "ipython",
    "version": 3
   },
   "file_extension": ".py",
   "mimetype": "text/x-python",
   "name": "python",
   "nbconvert_exporter": "python",
   "pygments_lexer": "ipython3",
   "version": "3.9.16"
  },
  "orig_nbformat": 4
 },
 "nbformat": 4,
 "nbformat_minor": 2
}
